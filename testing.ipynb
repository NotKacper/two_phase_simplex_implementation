{
 "cells": [
  {
   "cell_type": "markdown",
   "metadata": {},
   "source": [
    "# Testing Notebook\n",
    "This notebook will be used for carrying out test cases as well as explaining/logicing the steps of the 2 phase simplex method employed in this repo. \\\n",
    "An understanding of the phase 1 simplex method is required to understand the following (as explaining/deriving everything would take a very long time)."
   ]
  },
  {
   "cell_type": "code",
   "execution_count": null,
   "metadata": {},
   "outputs": [],
   "source": [
    "import random\n",
    "import numpy as np"
   ]
  },
  {
   "cell_type": "markdown",
   "metadata": {},
   "source": [
    "## Tableau Construction\n",
    "Here we will justify and test how the tableau construction will work in our program."
   ]
  },
  {
   "cell_type": "markdown",
   "metadata": {},
   "source": [
    "Here our problems are solveable from the following form:\\\n",
    "$  \\text{min }c\\cdot x$ \\\n",
    "$  \\text{s.t. } Ax = b$ \\\n",
    "$  x \\geq 0$ \n",
    "\\\n",
    "\\\n",
    "Our auxllary problem (to solve problems with no apparent basis, i.e. no apparent identity basic matrix fromed in matrix A) is then: \\\n",
    "$  \\text{min } e\\cdot y$ \\\n",
    "$  \\text{s.t. } Ax + I_n y = b$ \\\n",
    "$  x \\geq 0, y \\geq 0$ \\\n",
    "$ e = (1,...,1)^T$\n",
    "\\\n",
    "\\\n",
    "Hence our problem for the auxillary problem can be proven to be the following: \\\n",
    "$\\text{min } e\\cdot(b-Ax)$ \\\n",
    "$  \\text{s.t. } Ax + I_n y = b$ \\\n",
    "$  x \\geq 0, y \\geq 0$ \\\n",
    "$ e = (1,...,1)^T$ \\\n",
    "\\\n",
    "So our tableau becomes:\n",
    "| $-e\\cdot b$| $-eA$ | $0...0$ |\n",
    "| :----------:| :-----:| :----: |\n",
    "| $b$        |   $A$  | $I$ |\n",
    "\n",
    "Notice the following facts:\n",
    "1. Our tableau can be represented as a matrix of size $(m+1) \\times (m+n+1)$\n",
    "2. This tableau can be constructed numerically\n",
    "\n",
    "We use numpy.linalg to compute matrix multiplication as prescribed above. \\\n",
    "Note that we only have a valid solution if the y variables are all 0, otherwise the original problem's constraints are violated."
   ]
  },
  {
   "cell_type": "markdown",
   "metadata": {},
   "source": [
    "### Tableau Construction for the 2 phase simplex method"
   ]
  },
  {
   "cell_type": "markdown",
   "metadata": {},
   "source": [
    "### Tableau construction tests"
   ]
  },
  {
   "cell_type": "code",
   "execution_count": null,
   "metadata": {},
   "outputs": [],
   "source": [
    "from two_phase_simplex import TwoPhaseSimplex\n",
    "\n",
    "# test the basic tableau construction of the auxillary problem\n",
    "# simple 2x2 matrix case\n",
    "A = [[1,0],[1,1]]\n",
    "b = [2,3]\n",
    "c = [1,1]\n",
    "x = TwoPhaseSimplex(A,b,c)\n",
    "x.solve_phase_one()\n",
    "print(x.get_tableau())\n",
    "\n",
    "# non-square matrix\n",
    "A = [[3,2,2],[4,5,4],[2,1,1],[0,1,1]]\n",
    "b = [1,2,3,4]\n",
    "c = [-1,-2,3]\n",
    "y = TwoPhaseSimplex(A,b,c)\n",
    "y.solve_phase_one()\n",
    "print(y.get_tableau())\n",
    "\n",
    "# check if these two outputs check out"
   ]
  },
  {
   "cell_type": "markdown",
   "metadata": {},
   "source": [
    "### Tableau feasibility tests"
   ]
  },
  {
   "cell_type": "markdown",
   "metadata": {},
   "source": [
    "#### Feasiblity via violation of auxillary problems non-negativity constaint"
   ]
  },
  {
   "cell_type": "code",
   "execution_count": null,
   "metadata": {},
   "outputs": [],
   "source": [
    "# Simple problem (can be solved using normal gaussian elimination lol)\n",
    "\n",
    "A = [[1,0],[1,1]]\n",
    "b = [2,3]\n",
    "c = [1,1]\n",
    "x = TwoPhaseSimplex(A,b,c)\n",
    "if (x.solve_program()):\n",
    "    print(x.get_solution())\n",
    "\n",
    "# unbounded problem\n",
    "\n",
    "A = [[3,4,5],[42,5,1],[2,5,4]]\n",
    "b = [1,2,3]\n",
    "c = [2,3,1]\n",
    "\n",
    "y = TwoPhaseSimplex(A,b,c)\n",
    "if y.solve_program():\n",
    "    print(y.get_solution())\n",
    "\n",
    "# higher dimension bounded problem\n",
    "\n",
    "A = [[2,3,1,0],[3,1,0,-1]]\n",
    "b = [6,3]\n",
    "c = [-4,-5,0,0]\n",
    "\n",
    "z = TwoPhaseSimplex(A,b,c)\n",
    "if z.solve_program():\n",
    "    print(z.get_solution())"
   ]
  },
  {
   "cell_type": "markdown",
   "metadata": {},
   "source": [
    "## Random Test Cases"
   ]
  },
  {
   "cell_type": "code",
   "execution_count": null,
   "metadata": {},
   "outputs": [],
   "source": [
    "# produce random test cases\n",
    "\n",
    "test_cases : dict = {\"A\" : [], \"b\" : [], \"c\" : []}\n",
    "\n",
    "cases : int = 100\n",
    "\n",
    "for i in range(cases):\n",
    "    m : int = random.randint(2, 100)\n",
    "    n : int = random.randint(2, 100)\n",
    "    test_cases[\"A\"].append(np.random.rand(m,n))\n",
    "    test_cases[\"b\"].append(np.random.rand(m))\n",
    "    test_cases[\"c\"].append(np.random.rand(n))\n",
    "\n",
    "for i in range(cases):\n",
    "    x = TwoPhaseSimplex(test_cases[\"A\"][i], test_cases[\"b\"][i], test_cases[\"c\"][i])\n",
    "    if x.solve_program():\n",
    "        print(x.get_solution())"
   ]
  },
  {
   "cell_type": "markdown",
   "metadata": {},
   "source": [
    "### Observations from the random tests\n",
    "A very large amount of 'random' (generated by numpy) problems are infeasible or unbounded, hence do not have an optimal solution. In the next couple cells I will try to present these facts using graphs."
   ]
  },
  {
   "cell_type": "code",
   "execution_count": null,
   "metadata": {},
   "outputs": [],
   "source": [
    "def get_random_results(cases : np.array) -> np.array:\n",
    "    \"\"\"\n",
    "    Runs the two phase simplex solver using random shape of matrices and entries.\n",
    "    Returns a list of n results.\n",
    "    \"\"\"\n",
    "    results = np.zeros(len(cases))\n",
    "    for j,case in enumerate(cases):\n",
    "        for i in range(int(case)):\n",
    "            m : int = random.randint(9, 300)\n",
    "            n : int = m - 5\n",
    "            test_cases[\"A\"].append(np.random.rand(m,n))\n",
    "            test_cases[\"b\"].append(np.random.rand(m))\n",
    "            test_cases[\"c\"].append(np.random.rand(n))\n",
    "\n",
    "\n",
    "        for i in range(int(case)):\n",
    "            x = TwoPhaseSimplex(test_cases[\"A\"][i], test_cases[\"b\"][i], test_cases[\"c\"][i])\n",
    "            if x.solve_program():\n",
    "                results[j] += 1\n",
    "\n",
    "    return results"
   ]
  },
  {
   "cell_type": "code",
   "execution_count": null,
   "metadata": {},
   "outputs": [],
   "source": [
    "import matplotlib.pyplot as plt\n",
    "\n",
    "x = np.logspace(1, 3, base=10)\n",
    "print(x)\n",
    "y = np.zeros(len(x))\n",
    "\n",
    "y = get_random_results(x)\n",
    "\n",
    "print(y)"
   ]
  },
  {
   "cell_type": "markdown",
   "metadata": {},
   "source": [
    "## Input sanitisation tests"
   ]
  },
  {
   "cell_type": "code",
   "execution_count": null,
   "metadata": {},
   "outputs": [],
   "source": [
    "# should raise exception with a message\n",
    "\n",
    "A = [[3],[2],[4]] # A is a 3x1 matrix\n",
    "b = [1,2] # b has size 2\n",
    "c = [1] # c has size 1\n",
    "\n",
    "x = TwoPhaseSimplex(A, b, c)"
   ]
  },
  {
   "cell_type": "code",
   "execution_count": null,
   "metadata": {},
   "outputs": [],
   "source": [
    "# should raise exception with a message\n",
    "\n",
    "A = [[3,-1],[2,5]] # A is a 3x2 matrix\n",
    "b = [1,2,5] # b has size 3\n",
    "c = [1] # c has size 1\n",
    "\n",
    "x = TwoPhaseSimplex(A, b, c)"
   ]
  },
  {
   "cell_type": "code",
   "execution_count": null,
   "metadata": {},
   "outputs": [],
   "source": [
    "# should work with no exception\n",
    "\n",
    "A = [[3,-1],[2,5]] # A is a 3x2 matrix\n",
    "b = [1,2] # b has size 2\n",
    "c = [1,2] # c has size 2\n",
    "\n",
    "x = TwoPhaseSimplex(A, b, c)"
   ]
  }
 ],
 "metadata": {
  "kernelspec": {
   "display_name": "Python 3",
   "language": "python",
   "name": "python3"
  },
  "language_info": {
   "codemirror_mode": {
    "name": "ipython",
    "version": 3
   },
   "file_extension": ".py",
   "mimetype": "text/x-python",
   "name": "python",
   "nbconvert_exporter": "python",
   "pygments_lexer": "ipython3",
   "version": "3.12.3"
  }
 },
 "nbformat": 4,
 "nbformat_minor": 2
}
