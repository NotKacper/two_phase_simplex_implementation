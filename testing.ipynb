{
 "cells": [
  {
   "cell_type": "markdown",
   "metadata": {},
   "source": [
    "# Testing Notebook\n",
    "This notebook will be used for carrying out test cases as well as explaining/logicing the steps of the 2 phase simplex method employed in this repo."
   ]
  },
  {
   "cell_type": "markdown",
   "metadata": {},
   "source": [
    "## Tableau Construction\n",
    "Here we will justify and test how the tableau construction will work in our program."
   ]
  },
  {
   "cell_type": "markdown",
   "metadata": {},
   "source": [
    "### Tableau construction tests"
   ]
  },
  {
   "cell_type": "code",
   "execution_count": 4,
   "metadata": {},
   "outputs": [
    {
     "name": "stdout",
     "output_type": "stream",
     "text": [
      "[[ 0.  0.  0.  1.  1.]\n",
      " [ 2.  1.  0.  1.  0.]\n",
      " [ 1.  0.  1. -1.  1.]]\n",
      "[[-6.00000000e+00  1.00000000e+00  0.00000000e+00  0.00000000e+00\n",
      "   2.00000000e+00  1.00000000e+00  0.00000000e+00  0.00000000e+00]\n",
      " [ 5.00000000e-01  3.50000000e+00  0.00000000e+00  1.00000000e+00\n",
      "   2.50000000e+00 -1.00000000e+00  0.00000000e+00  0.00000000e+00]\n",
      " [ 0.00000000e+00 -2.00000000e+00  1.00000000e+00  0.00000000e+00\n",
      "  -2.00000000e+00  1.00000000e+00  0.00000000e+00  0.00000000e+00]\n",
      " [ 2.50000000e+00  5.00000000e-01  0.00000000e+00  0.00000000e+00\n",
      "  -5.00000000e-01  0.00000000e+00  1.00000000e+00  0.00000000e+00]\n",
      " [ 3.50000000e+00 -1.50000000e+00  0.00000000e+00  0.00000000e+00\n",
      "  -5.00000000e-01  5.55111512e-17  0.00000000e+00  1.00000000e+00]]\n"
     ]
    }
   ],
   "source": [
    "from two_phase_simplex import TwoPhaseSimplex\n",
    "\n",
    "# test the basic tableau construction of the auxillary problem\n",
    "# simple 2x2 matrix case\n",
    "A = [[1,0],[1,1]]\n",
    "b = [2,3]\n",
    "c = [1,1]\n",
    "x = TwoPhaseSimplex(A,b,c)\n",
    "x.solve_program()\n",
    "\n",
    "# non-square matrix\n",
    "A = [[3,2,2],[4,5,4],[2,1,1],[0,1,1]]\n",
    "b = [1,2,3,4]\n",
    "c = [-1,-2,3]\n",
    "y = TwoPhaseSimplex(A,b,c)\n",
    "y.solve_program()\n",
    "\n",
    "# check if these two outputs check out\n"
   ]
  }
 ],
 "metadata": {
  "kernelspec": {
   "display_name": "Python 3",
   "language": "python",
   "name": "python3"
  },
  "language_info": {
   "codemirror_mode": {
    "name": "ipython",
    "version": 3
   },
   "file_extension": ".py",
   "mimetype": "text/x-python",
   "name": "python",
   "nbconvert_exporter": "python",
   "pygments_lexer": "ipython3",
   "version": "3.12.4"
  }
 },
 "nbformat": 4,
 "nbformat_minor": 2
}
