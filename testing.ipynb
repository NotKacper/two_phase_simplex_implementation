{
 "cells": [
  {
   "cell_type": "markdown",
   "metadata": {},
   "source": [
    "# Testing Notebook\n",
    "This notebook will be used for carrying out test cases as well as explaining/logicing the steps of the 2 phase simplex method employed in this repo. \\\n",
    "An understanding of the phase 1 simplex method is required to understand the following (as explaining/deriving everything would take a very long time)."
   ]
  },
  {
   "cell_type": "code",
   "execution_count": 11,
   "metadata": {},
   "outputs": [],
   "source": [
    "import random\n",
    "import numpy as np"
   ]
  },
  {
   "cell_type": "markdown",
   "metadata": {},
   "source": [
    "## Tableau Construction\n",
    "Here we will justify and test how the tableau construction will work in our program."
   ]
  },
  {
   "cell_type": "markdown",
   "metadata": {},
   "source": [
    "### Tableau Construction for the 2 phase simplex method"
   ]
  },
  {
   "cell_type": "markdown",
   "metadata": {},
   "source": [
    "Here our problems are solveable from the following form:\\\n",
    "$  \\text{min }c\\cdot x$ \\\n",
    "$  \\text{s.t. } Ax = b$ \\\n",
    "$  x \\geq 0$ \n",
    "\\\n",
    "\\\n",
    "Our auxllary problem (to solve problems with no apparent basis, i.e. no apparent identity basic matrix fromed in matrix A) is then: \\\n",
    "$  \\text{min } e\\cdot y$ \\\n",
    "$  \\text{s.t. } Ax + I_n y = b$ \\\n",
    "$  x \\geq 0, y \\geq 0$ \\\n",
    "$ e = (1,...,1)^T$\n",
    "\\\n",
    "\\\n",
    "Hence our problem for the auxillary problem can be proven to be the following: \\\n",
    "$\\text{min } e\\cdot(b-Ax)$ \\\n",
    "$  \\text{s.t. } Ax + I_n y = b$ \\\n",
    "$  x \\geq 0, y \\geq 0$ \\\n",
    "$ e = (1,...,1)^T$ \\\n",
    "\\\n",
    "So our tableau becomes:\n",
    "| $-e\\cdot b$| $-eA$ | $0...0$ |\n",
    "| :----------:| :-----:| :----: |\n",
    "| $b$        |   $A$  | $I$ |\n",
    "\n",
    "Notice the following facts:\n",
    "1. Our tableau can be represented as a matrix of size $(m+1) \\times (m+n+1)$\n",
    "2. This tableau can be constructed numerically\n",
    "\n",
    "We use numpy.linalg to compute matrix multiplication as prescribed above. \\\n",
    "Note that we only have a valid solution if the y variables are all 0, otherwise the original problem's constraints are violated."
   ]
  },
  {
   "cell_type": "markdown",
   "metadata": {},
   "source": [
    "### Tableau construction tests"
   ]
  },
  {
   "cell_type": "code",
   "execution_count": 12,
   "metadata": {},
   "outputs": [
    {
     "name": "stdout",
     "output_type": "stream",
     "text": [
      "[[ 0.  0.  0.  1.  1.]\n",
      " [ 2.  1.  0.  1.  0.]\n",
      " [ 1.  0.  1. -1.  1.]]\n",
      "[[-6.00000000e+00  1.00000000e+00  0.00000000e+00  0.00000000e+00\n",
      "   2.00000000e+00  1.00000000e+00  0.00000000e+00  0.00000000e+00]\n",
      " [ 5.00000000e-01  3.50000000e+00  0.00000000e+00  1.00000000e+00\n",
      "   2.50000000e+00 -1.00000000e+00  0.00000000e+00  0.00000000e+00]\n",
      " [ 0.00000000e+00 -2.00000000e+00  1.00000000e+00  0.00000000e+00\n",
      "  -2.00000000e+00  1.00000000e+00  0.00000000e+00  0.00000000e+00]\n",
      " [ 2.50000000e+00  5.00000000e-01  0.00000000e+00  0.00000000e+00\n",
      "  -5.00000000e-01  0.00000000e+00  1.00000000e+00  0.00000000e+00]\n",
      " [ 3.50000000e+00 -1.50000000e+00  0.00000000e+00  0.00000000e+00\n",
      "  -5.00000000e-01  5.55111512e-17  0.00000000e+00  1.00000000e+00]]\n"
     ]
    }
   ],
   "source": [
    "from two_phase_simplex import TwoPhaseSimplex\n",
    "\n",
    "# test the basic tableau construction of the auxillary problem\n",
    "# simple 2x2 matrix case\n",
    "A = [[1,0],[1,1]]\n",
    "b = [2,3]\n",
    "c = [1,1]\n",
    "x = TwoPhaseSimplex(A,b,c)\n",
    "x.solve_phase_one()\n",
    "print(x.get_tableau())\n",
    "\n",
    "# non-square matrix\n",
    "A = [[3,2,2],[4,5,4],[2,1,1],[0,1,1]]\n",
    "b = [1,2,3,4]\n",
    "c = [-1,-2,3]\n",
    "y = TwoPhaseSimplex(A,b,c)\n",
    "y.solve_phase_one()\n",
    "print(y.get_tableau())\n",
    "\n",
    "# check if these two outputs check out"
   ]
  },
  {
   "cell_type": "markdown",
   "metadata": {},
   "source": [
    "### Tableau feasibility tests"
   ]
  },
  {
   "cell_type": "markdown",
   "metadata": {},
   "source": [
    "#### Feasiblity via violation of auxillary problems non-negativity constaint"
   ]
  },
  {
   "cell_type": "code",
   "execution_count": 13,
   "metadata": {},
   "outputs": [
    {
     "name": "stdout",
     "output_type": "stream",
     "text": [
      "{'x1': 2.0, 'x2': 1.0}\n",
      "{'x1': 3.0, 'x2': 0.0, 'x3': 0.0, 'x4': 6.0}\n"
     ]
    }
   ],
   "source": [
    "# Simple problem (can be solved using normal gaussian elimination lol)\n",
    "\n",
    "A = [[1,0],[1,1]]\n",
    "b = [2,3]\n",
    "c = [1,1]\n",
    "x = TwoPhaseSimplex(A,b,c)\n",
    "if (x.solve_program()):\n",
    "    print(x.get_solution())\n",
    "\n",
    "# unbounded problem\n",
    "\n",
    "A = [[3,4,5],[42,5,1],[2,5,4]]\n",
    "b = [1,2,3]\n",
    "c = [2,3,1]\n",
    "\n",
    "y = TwoPhaseSimplex(A,b,c)\n",
    "if y.solve_program():\n",
    "    print(y.get_solution())\n",
    "\n",
    "# higher dimension bounded problem\n",
    "\n",
    "A = [[2,3,1,0],[3,1,0,-1]]\n",
    "b = [6,3]\n",
    "c = [-4,-5,0,0]\n",
    "\n",
    "z = TwoPhaseSimplex(A,b,c)\n",
    "if z.solve_program():\n",
    "    print(z.get_solution())"
   ]
  },
  {
   "cell_type": "markdown",
   "metadata": {},
   "source": [
    "## Random Test Cases"
   ]
  },
  {
   "cell_type": "code",
   "execution_count": 14,
   "metadata": {},
   "outputs": [
    {
     "name": "stdout",
     "output_type": "stream",
     "text": [
      "{'x1': 0.0, 'x2': 0.0, 'x3': 0.0, 'x4': 0.0, 'x5': 0.0, 'x6': 0.0, 'x7': 0.0, 'x8': 0.08070755258476527, 'x9': 0.0, 'x10': 0.0, 'x11': 0.0, 'x12': 0.0, 'x13': 0.0, 'x14': 0.0, 'x15': 0.0, 'x16': 0.0, 'x17': 0.0, 'x18': 0.0, 'x19': 0.0, 'x20': 0.0, 'x21': 0.0, 'x22': 0.0, 'x23': 0.0, 'x24': 0.0, 'x25': 0.0, 'x26': 0.0, 'x27': 0.0, 'x28': 0.6231258565517483, 'x29': 0.0, 'x30': 0.0, 'x31': 0.0, 'x32': 0.0, 'x33': 0.6780015805371454, 'x34': 0.0, 'x35': 0.0, 'x36': 0.0, 'x37': 0.0, 'x38': 0.0, 'x39': 0.0, 'x40': 0.0, 'x41': 0.0, 'x42': 0.0, 'x43': 0.0, 'x44': 0.0, 'x45': 0.0, 'x46': 0.0, 'x47': 0.0, 'x48': 0.0, 'x49': 0.0, 'x50': 0.0, 'x51': 0.0, 'x52': 0.0, 'x53': 0.0, 'x54': 0.0, 'x55': 0.0, 'x56': 0.0, 'x57': 0.0, 'x58': 0.0, 'x59': 0.0, 'x60': 0.0, 'x61': 0.0, 'x62': 0.0, 'x63': 0.0, 'x64': 0.0, 'x65': 0.0, 'x66': 0.0, 'x67': 0.0, 'x68': 0.0, 'x69': 0.0, 'x70': 0.0, 'x71': 0.0, 'x72': 0.0, 'x73': 0.0, 'x74': 0.0, 'x75': 0.0, 'x76': 0.0, 'x77': 0.0, 'x78': 0.0, 'x79': 0.0, 'x80': 0.0, 'x81': 0.0, 'x82': 0.0, 'x83': 0.0, 'x84': 0.0, 'x85': 0.0, 'x86': 0.0, 'x87': 0.0, 'x88': 0.0, 'x89': 0.0}\n",
      "{'x1': 0.0, 'x2': 0.0, 'x3': 0.0, 'x4': 0.0, 'x5': 0.0, 'x6': 0.0, 'x7': 0.0, 'x8': 0.5440991857936469, 'x9': 0.0, 'x10': 0.0, 'x11': 0.0, 'x12': 0.0, 'x13': 0.0, 'x14': 0.0, 'x15': 0.0, 'x16': 0.0, 'x17': 0.0, 'x18': 0.0, 'x19': 0.0, 'x20': 0.0, 'x21': 0.0, 'x22': 0.0, 'x23': 0.060081596795654425, 'x24': 0.0, 'x25': 0.0, 'x26': 0.0, 'x27': 0.0, 'x28': 0.0, 'x29': 0.0, 'x30': 0.04665602499655112, 'x31': 0.15576684736883498, 'x32': 0.0, 'x33': 0.0, 'x34': 0.0, 'x35': 0.0, 'x36': 0.0, 'x37': 0.0, 'x38': 0.0, 'x39': 0.0, 'x40': 0.0, 'x41': 0.0, 'x42': 0.0, 'x43': 0.0, 'x44': 0.0, 'x45': 0.0, 'x46': 0.0, 'x47': 0.0, 'x48': 0.0, 'x49': 0.0, 'x50': 0.0, 'x51': 0.0, 'x52': 0.0, 'x53': 0.0, 'x54': 0.0, 'x55': 0.0, 'x56': 0.0, 'x57': 0.0, 'x58': 0.0, 'x59': 0.5045865646590784, 'x60': 0.0, 'x61': 0.2480130799736475, 'x62': 0.0, 'x63': 0.0, 'x64': 0.0, 'x65': 0.0, 'x66': 0.0, 'x67': 0.0}\n",
      "{'x1': 0.0, 'x2': 0.0, 'x3': 0.0, 'x4': 0.0, 'x5': 0.0, 'x6': 0.0, 'x7': 0.0, 'x8': 0.0, 'x9': 0.0, 'x10': 0.0, 'x11': 0.0, 'x12': 0.0, 'x13': 0.0, 'x14': 0.0, 'x15': 0.0, 'x16': 0.0, 'x17': 0.0, 'x18': 0.0, 'x19': 0.0, 'x20': 0.11797082892302801, 'x21': 0.0, 'x22': 0.0, 'x23': 0.0, 'x24': 0.0, 'x25': 0.0, 'x26': 0.0, 'x27': 0.0, 'x28': 0.0, 'x29': 0.0, 'x30': 0.0, 'x31': 0.0, 'x32': 0.0, 'x33': 0.0, 'x34': 0.0, 'x35': 0.0, 'x36': 0.0, 'x37': 0.0, 'x38': 0.0, 'x39': 0.0, 'x40': 0.0, 'x41': 0.0, 'x42': 0.0, 'x43': 0.0, 'x44': 0.0, 'x45': 0.0, 'x46': 0.0, 'x47': 0.0, 'x48': 0.0, 'x49': 0.0, 'x50': 0.0, 'x51': 0.0, 'x52': 0.7999702306375723, 'x53': 0.0, 'x54': 0.0, 'x55': 0.0, 'x56': 0.0, 'x57': 0.0, 'x58': 0.0, 'x59': 0.0, 'x60': 0.0, 'x61': 0.0, 'x62': 0.0}\n",
      "{'x1': 0.05266252281301265, 'x2': 0.0, 'x3': 0.0, 'x4': 0.0, 'x5': 0.0, 'x6': 0.0, 'x7': 0.0, 'x8': 0.0, 'x9': 0.0, 'x10': 0.0, 'x11': 0.0, 'x12': 0.0, 'x13': 0.0, 'x14': 0.0, 'x15': 0.0, 'x16': 0.0, 'x17': 0.0, 'x18': 0.0, 'x19': 0.29610606416633606, 'x20': 0.0, 'x21': 0.0, 'x22': 0.0, 'x23': 0.0, 'x24': 0.0, 'x25': 0.0, 'x26': 0.0, 'x27': 0.0, 'x28': 0.0, 'x29': 0.0, 'x30': 0.0, 'x31': 0.0, 'x32': 0.0, 'x33': 0.0, 'x34': 0.0, 'x35': 0.0, 'x36': 0.0, 'x37': 0.0, 'x38': 0.0, 'x39': 0.0, 'x40': 0.0, 'x41': 0.0, 'x42': 0.0, 'x43': 0.0, 'x44': 0.0, 'x45': 0.0, 'x46': 0.0, 'x47': 0.0, 'x48': 0.0, 'x49': 0.0, 'x50': 0.0, 'x51': 0.0, 'x52': 0.0, 'x53': 0.0, 'x54': 0.0, 'x55': 0.0, 'x56': 0.0, 'x57': 0.0, 'x58': 0.0, 'x59': 0.0, 'x60': 0.48537829441719343, 'x61': 0.0, 'x62': 0.0, 'x63': 0.0, 'x64': 0.0, 'x65': 0.0, 'x66': 0.0, 'x67': 0.0, 'x68': 0.0, 'x69': 0.0, 'x70': 0.0, 'x71': 0.6822755221752522}\n"
     ]
    }
   ],
   "source": [
    "# produce random test cases\n",
    "\n",
    "test_cases : dict = {\"A\" : [], \"b\" : [], \"c\" : []}\n",
    "\n",
    "cases : int = 100\n",
    "\n",
    "for i in range(cases):\n",
    "    m : int = random.randint(2, 100)\n",
    "    n : int = random.randint(2, 100)\n",
    "    test_cases[\"A\"].append(np.random.rand(m,n))\n",
    "    test_cases[\"b\"].append(np.random.rand(m))\n",
    "    test_cases[\"c\"].append(np.random.rand(n))\n",
    "\n",
    "for i in range(cases):\n",
    "    x = TwoPhaseSimplex(test_cases[\"A\"][i], test_cases[\"b\"][i], test_cases[\"c\"][i])\n",
    "    if x.solve_program():\n",
    "        print(x.get_solution())"
   ]
  },
  {
   "cell_type": "markdown",
   "metadata": {},
   "source": [
    "### Observations from the random tests\n",
    "A very large amount of 'random' (generated by numpy) problems are infeasible or unbounded, hence do not have an optimal solution. In the next couple cells I will try to present these facts using graphs."
   ]
  },
  {
   "cell_type": "code",
   "execution_count": 15,
   "metadata": {},
   "outputs": [],
   "source": [
    "def get_random_results(n : int) -> list:\n",
    "    \"\"\"\n",
    "    Runs the two phase simplex solver using random shape of matrices and entries.\n",
    "    Returns a list of n results.\n",
    "    \"\"\"\n",
    "    for i in range(cases):\n",
    "        m : int = random.randint(9, 300)\n",
    "        n : int = m - 5\n",
    "        test_cases[\"A\"].append(np.random.rand(m,n))\n",
    "        test_cases[\"b\"].append(np.random.rand(m))\n",
    "        test_cases[\"c\"].append(np.random.rand(n))\n",
    "\n",
    "    number_of_feasible_solns = 0\n",
    "\n",
    "    for i in range(cases):\n",
    "        x = TwoPhaseSimplex(test_cases[\"A\"][i], test_cases[\"b\"][i], test_cases[\"c\"][i])\n",
    "        if x.solve_program():\n",
    "            number_of_feasible_solns+=1\n",
    "\n",
    "    return number_of_feasible_solns"
   ]
  },
  {
   "cell_type": "code",
   "execution_count": 16,
   "metadata": {},
   "outputs": [
    {
     "name": "stdout",
     "output_type": "stream",
     "text": [
      "4\n",
      "4e-06\n"
     ]
    }
   ],
   "source": [
    "import matplotlib.pyplot as plt\n",
    "\n",
    "n = 1000000\n",
    "\n",
    "number_of_feasible_solns = get_random_results(n)\n",
    "\n",
    "proportion_of_feasible_solns = number_of_feasible_solns/n\n",
    "\n",
    "print(number_of_feasible_solns)\n",
    "print(proportion_of_feasible_solns)"
   ]
  }
 ],
 "metadata": {
  "kernelspec": {
   "display_name": "Python (myenv)",
   "language": "python",
   "name": "myenv"
  },
  "language_info": {
   "codemirror_mode": {
    "name": "ipython",
    "version": 3
   },
   "file_extension": ".py",
   "mimetype": "text/x-python",
   "name": "python",
   "nbconvert_exporter": "python",
   "pygments_lexer": "ipython3",
   "version": "3.12.4"
  }
 },
 "nbformat": 4,
 "nbformat_minor": 2
}
