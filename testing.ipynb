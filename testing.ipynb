{
 "cells": [
  {
   "cell_type": "markdown",
   "metadata": {},
   "source": [
    "# Testing Notebook\n",
    "This notebook will be used for carrying out test cases as well as explaining/logicing the steps of the 2 phase simplex method employed in this repo. \\\n",
    "An understanding of the phase 1 simplex method is required to understand the following (as explaining/deriving everything would take a very long time)."
   ]
  },
  {
   "cell_type": "markdown",
   "metadata": {},
   "source": [
    "## Tableau Construction\n",
    "Here we will justify and test how the tableau construction will work in our program."
   ]
  },
  {
   "cell_type": "markdown",
   "metadata": {},
   "source": [
    "### Tableau Construction for the 2 phase simplex method"
   ]
  },
  {
   "cell_type": "markdown",
   "metadata": {},
   "source": [
    "Here our problems are solveable from the following form:\\\n",
    "$  \\text{min }c\\cdot x$ \\\n",
    "$  \\text{s.t. } Ax = b$ \\\n",
    "$  x \\geq 0$ \n",
    "\\\n",
    "\\\n",
    "Our auxllary problem (to solve problems with no apparent basis, i.e. no apparent identity basic matrix fromed in matrix A) is then: \\\n",
    "$  \\text{min } e\\cdot y$ \\\n",
    "$  \\text{s.t. } Ax + I_n y = b$ \\\n",
    "$  x \\geq 0, y \\geq 0$ \\\n",
    "$ e = (1,...,1)^T$\n",
    "\\\n",
    "\\\n",
    "Hence our problem for the auxillary problem can be proven to be the following: \\\n",
    "$\\text{min } e\\cdot(b-Ax)$ \\\n",
    "$  \\text{s.t. } Ax + I_n y = b$ \\\n",
    "$  x \\geq 0, y \\geq 0$ \\\n",
    "$ e = (1,...,1)^T$ \\\n",
    "\\\n",
    "So our tableau becomes:\n",
    "| $-e\\cdot b$| $-eA$ | $0...0$ |\n",
    "| :----------:| :-----:| :----: |\n",
    "| $b$        |   $A$  | $I$ |\n",
    "\n",
    "Notice the following facts:\n",
    "1. Our tableau can be represented as a matrix of size $(m+1) \\times (m+n+1)$\n",
    "2. This tableau can be constructed numerically\n",
    "\n",
    "We use numpy.linalg to compute matrix multiplication as prescribed above. \\\n",
    "Note that we only have a valid solution if the y variables are all 0, otherwise the original problem's constraints are violated."
   ]
  },
  {
   "cell_type": "markdown",
   "metadata": {},
   "source": [
    "### Tableau construction tests"
   ]
  },
  {
   "cell_type": "code",
   "execution_count": 11,
   "metadata": {},
   "outputs": [
    {
     "name": "stdout",
     "output_type": "stream",
     "text": [
      "[array([0., 0., 0., 1., 1.]), array([2., 1., 0., 1., 0.]), array([ 1.,  0.,  1., -1.,  1.])]\n",
      "[array([-6.,  1.,  0.,  0.,  2.,  1.,  0.,  0.]), array([ 0.5,  3.5,  0. ,  1. ,  2.5, -1. ,  0. ,  0. ]), array([ 0., -2.,  1.,  0., -2.,  1.,  0.,  0.]), array([ 2.5,  0.5,  0. ,  0. , -0.5,  0. ,  1. ,  0. ]), array([ 3.50000000e+00, -1.50000000e+00,  0.00000000e+00,  0.00000000e+00,\n",
      "       -5.00000000e-01,  5.55111512e-17,  0.00000000e+00,  1.00000000e+00])]\n"
     ]
    }
   ],
   "source": [
    "from two_phase_simplex import TwoPhaseSimplex\n",
    "\n",
    "# test the basic tableau construction of the auxillary problem\n",
    "# simple 2x2 matrix case\n",
    "A = [[1,0],[1,1]]\n",
    "b = [2,3]\n",
    "c = [1,1]\n",
    "x = TwoPhaseSimplex(A,b,c)\n",
    "x.solve_program()\n",
    "print(x.get_tableau())\n",
    "\n",
    "# non-square matrix\n",
    "A = [[3,2,2],[4,5,4],[2,1,1],[0,1,1]]\n",
    "b = [1,2,3,4]\n",
    "c = [-1,-2,3]\n",
    "y = TwoPhaseSimplex(A,b,c)\n",
    "y.solve_program()\n",
    "print(y.get_tableau())\n",
    "\n",
    "# check if these two outputs check out"
   ]
  },
  {
   "cell_type": "markdown",
   "metadata": {},
   "source": [
    "### Tableau feasibility tests"
   ]
  },
  {
   "cell_type": "markdown",
   "metadata": {},
   "source": [
    "#### Feasiblity via violation of auxillary problems non-negativity constaint"
   ]
  }
 ],
 "metadata": {
  "kernelspec": {
   "display_name": "Python 3",
   "language": "python",
   "name": "python3"
  },
  "language_info": {
   "codemirror_mode": {
    "name": "ipython",
    "version": 3
   },
   "file_extension": ".py",
   "mimetype": "text/x-python",
   "name": "python",
   "nbconvert_exporter": "python",
   "pygments_lexer": "ipython3",
   "version": "3.12.4"
  }
 },
 "nbformat": 4,
 "nbformat_minor": 2
}
