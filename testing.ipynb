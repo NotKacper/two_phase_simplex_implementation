{
 "cells": [
  {
   "cell_type": "markdown",
   "metadata": {},
   "source": [
    "# Testing Notebook\n",
    "This notebook will be used for carrying out test cases as well as explaining/logicing the steps of the 2 phase simplex method employed in this repo. \\\n",
    "An understanding of the phase 1 simplex method is required to understand the following (as explaining/deriving everything would take a very long time)."
   ]
  },
  {
   "cell_type": "code",
   "execution_count": 5,
   "metadata": {},
   "outputs": [],
   "source": [
    "import random\n",
    "import numpy as np"
   ]
  },
  {
   "cell_type": "markdown",
   "metadata": {},
   "source": [
    "## Tableau Construction\n",
    "Here we will justify and test how the tableau construction will work in our program."
   ]
  },
  {
   "cell_type": "markdown",
   "metadata": {},
   "source": [
    "Here our problems are solveable from the following form:\\\n",
    "$  \\text{min }c\\cdot x$ \\\n",
    "$  \\text{s.t. } Ax = b$ \\\n",
    "$  x \\geq 0$ \n",
    "\\\n",
    "\\\n",
    "Our auxllary problem (to solve problems with no apparent basis, i.e. no apparent identity basic matrix fromed in matrix A) is then: \\\n",
    "$  \\text{min } e\\cdot y$ \\\n",
    "$  \\text{s.t. } Ax + I_n y = b$ \\\n",
    "$  x \\geq 0, y \\geq 0$ \\\n",
    "$ e = (1,...,1)^T$\n",
    "\\\n",
    "\\\n",
    "Hence our problem for the auxillary problem can be proven to be the following: \\\n",
    "$\\text{min } e\\cdot(b-Ax)$ \\\n",
    "$  \\text{s.t. } Ax + I_n y = b$ \\\n",
    "$  x \\geq 0, y \\geq 0$ \\\n",
    "$ e = (1,...,1)^T$ \\\n",
    "\\\n",
    "So our tableau becomes:\n",
    "| $-e\\cdot b$| $-eA$ | $0...0$ |\n",
    "| :----------:| :-----:| :----: |\n",
    "| $b$        |   $A$  | $I$ |\n",
    "\n",
    "Notice the following facts:\n",
    "1. Our tableau can be represented as a matrix of size $(m+1) \\times (m+n+1)$\n",
    "2. This tableau can be constructed numerically\n",
    "\n",
    "We use numpy.linalg to compute matrix multiplication as prescribed above. \\\n",
    "Note that we only have a valid solution if the y variables are all 0, otherwise the original problem's constraints are violated."
   ]
  },
  {
   "cell_type": "markdown",
   "metadata": {},
   "source": [
    "### Tableau Construction for the 2 phase simplex method"
   ]
  },
  {
   "cell_type": "markdown",
   "metadata": {},
   "source": [
    "### Tableau construction tests"
   ]
  },
  {
   "cell_type": "code",
   "execution_count": 6,
   "metadata": {},
   "outputs": [
    {
     "name": "stdout",
     "output_type": "stream",
     "text": [
      "[[ 0.  0.  0.  1.  1.]\n",
      " [ 2.  1.  0.  1.  0.]\n",
      " [ 1.  0.  1. -1.  1.]]\n",
      "[[-6.00000000e+00  1.00000000e+00  0.00000000e+00  0.00000000e+00\n",
      "   2.00000000e+00  1.00000000e+00  0.00000000e+00  0.00000000e+00]\n",
      " [ 5.00000000e-01  3.50000000e+00  0.00000000e+00  1.00000000e+00\n",
      "   2.50000000e+00 -1.00000000e+00  0.00000000e+00  0.00000000e+00]\n",
      " [ 0.00000000e+00 -2.00000000e+00  1.00000000e+00  0.00000000e+00\n",
      "  -2.00000000e+00  1.00000000e+00  0.00000000e+00  0.00000000e+00]\n",
      " [ 2.50000000e+00  5.00000000e-01  0.00000000e+00  0.00000000e+00\n",
      "  -5.00000000e-01  0.00000000e+00  1.00000000e+00  0.00000000e+00]\n",
      " [ 3.50000000e+00 -1.50000000e+00  0.00000000e+00  0.00000000e+00\n",
      "  -5.00000000e-01  5.55111512e-17  0.00000000e+00  1.00000000e+00]]\n"
     ]
    }
   ],
   "source": [
    "from two_phase_simplex import TwoPhaseSimplex\n",
    "\n",
    "# test the basic tableau construction of the auxillary problem\n",
    "# simple 2x2 matrix case\n",
    "A = [[1,0],[1,1]]\n",
    "b = [2,3]\n",
    "c = [1,1]\n",
    "x = TwoPhaseSimplex(A,b,c)\n",
    "x.complete_phase_one()\n",
    "print(x.get_tableau())\n",
    "\n",
    "# non-square matrix\n",
    "A = [[3,2,2],[4,5,4],[2,1,1],[0,1,1]]\n",
    "b = [1,2,3,4]\n",
    "c = [-1,-2,3]\n",
    "y = TwoPhaseSimplex(A,b,c)\n",
    "y.complete_phase_one()\n",
    "print(y.get_tableau())\n",
    "\n",
    "# check if these two outputs check out"
   ]
  },
  {
   "cell_type": "markdown",
   "metadata": {},
   "source": [
    "### Tableau feasibility tests"
   ]
  },
  {
   "cell_type": "markdown",
   "metadata": {},
   "source": [
    "#### Feasiblity via violation of auxillary problems non-negativity constaint"
   ]
  },
  {
   "cell_type": "code",
   "execution_count": 7,
   "metadata": {},
   "outputs": [
    {
     "name": "stdout",
     "output_type": "stream",
     "text": [
      "{'x1': 2.0, 'x2': 1.0}\n",
      "{'x1': -0.07874015748031496, 'x2': 1.204724409448819, 'x3': -0.7165354330708661}\n",
      "{'x1': 3.0, 'x2': 0.0, 'x3': 0.0, 'x4': 6.0}\n"
     ]
    }
   ],
   "source": [
    "# Simple problem (can be solved using normal gaussian elimination lol)\n",
    "\n",
    "A = [[1,0],[1,1]]\n",
    "b = [2,3]\n",
    "c = [1,1]\n",
    "x = TwoPhaseSimplex(A,b,c)\n",
    "if (x.solve_program()):\n",
    "    print(x.get_solution())\n",
    "\n",
    "# unbounded problem\n",
    "\n",
    "A = [[3,4,5],[42,5,1],[2,5,4]]\n",
    "b = [1,2,3]\n",
    "c = [2,3,1]\n",
    "\n",
    "y = TwoPhaseSimplex(A,b,c)\n",
    "if y.solve_program():\n",
    "    print(y.get_solution())\n",
    "\n",
    "# higher dimension bounded problem\n",
    "\n",
    "A = [[2,3,1,0],[3,1,0,-1]]\n",
    "b = [6,3]\n",
    "c = [-4,-5,0,0]\n",
    "\n",
    "z = TwoPhaseSimplex(A,b,c)\n",
    "if z.solve_program():\n",
    "    print(z.get_solution())"
   ]
  },
  {
   "cell_type": "markdown",
   "metadata": {},
   "source": [
    "## Random Test Cases"
   ]
  },
  {
   "cell_type": "code",
   "execution_count": 8,
   "metadata": {},
   "outputs": [
    {
     "ename": "IndexError",
     "evalue": "index 52 is out of bounds for axis 0 with size 52",
     "output_type": "error",
     "traceback": [
      "\u001b[0;31m---------------------------------------------------------------------------\u001b[0m",
      "\u001b[0;31mIndexError\u001b[0m                                Traceback (most recent call last)",
      "Cell \u001b[0;32mIn[8], line 16\u001b[0m\n\u001b[1;32m     14\u001b[0m \u001b[38;5;28;01mfor\u001b[39;00m i \u001b[38;5;129;01min\u001b[39;00m \u001b[38;5;28mrange\u001b[39m(cases):\n\u001b[1;32m     15\u001b[0m     x \u001b[38;5;241m=\u001b[39m TwoPhaseSimplex(test_cases[\u001b[38;5;124m\"\u001b[39m\u001b[38;5;124mA\u001b[39m\u001b[38;5;124m\"\u001b[39m][i], test_cases[\u001b[38;5;124m\"\u001b[39m\u001b[38;5;124mb\u001b[39m\u001b[38;5;124m\"\u001b[39m][i], test_cases[\u001b[38;5;124m\"\u001b[39m\u001b[38;5;124mc\u001b[39m\u001b[38;5;124m\"\u001b[39m][i])\n\u001b[0;32m---> 16\u001b[0m     \u001b[38;5;28;01mif\u001b[39;00m \u001b[43mx\u001b[49m\u001b[38;5;241;43m.\u001b[39;49m\u001b[43msolve_program\u001b[49m\u001b[43m(\u001b[49m\u001b[43m)\u001b[49m:\n\u001b[1;32m     17\u001b[0m         \u001b[38;5;28mprint\u001b[39m(x\u001b[38;5;241m.\u001b[39mget_solution())\n",
      "File \u001b[0;32m~/Projects/two_phase_simplex_implementation/two_phase_simplex.py:223\u001b[0m, in \u001b[0;36mTwoPhaseSimplex.solve_program\u001b[0;34m(self)\u001b[0m\n\u001b[1;32m    221\u001b[0m \u001b[38;5;28;01mif\u001b[39;00m \u001b[38;5;129;01mnot\u001b[39;00m valid:\n\u001b[1;32m    222\u001b[0m     \u001b[38;5;28;01mreturn\u001b[39;00m \u001b[38;5;28;01mFalse\u001b[39;00m\n\u001b[0;32m--> 223\u001b[0m \u001b[38;5;28;43mself\u001b[39;49m\u001b[38;5;241;43m.\u001b[39;49m\u001b[43m__change_tableau_to_phase_two\u001b[49m\u001b[43m(\u001b[49m\u001b[43mbasis\u001b[49m\u001b[43m)\u001b[49m\n\u001b[1;32m    224\u001b[0m basis \u001b[38;5;241m=\u001b[39m \u001b[38;5;28mself\u001b[39m\u001b[38;5;241m.\u001b[39m__complete_phase_two(basis)\n\u001b[1;32m    225\u001b[0m \u001b[38;5;28mself\u001b[39m\u001b[38;5;241m.\u001b[39m__store_solution(basis)\n",
      "File \u001b[0;32m~/Projects/two_phase_simplex_implementation/two_phase_simplex.py:174\u001b[0m, in \u001b[0;36mTwoPhaseSimplex.__change_tableau_to_phase_two\u001b[0;34m(self, basis)\u001b[0m\n\u001b[1;32m    169\u001b[0m \u001b[38;5;28;01mdef\u001b[39;00m \u001b[38;5;21m__change_tableau_to_phase_two\u001b[39m(\u001b[38;5;28mself\u001b[39m, basis: np\u001b[38;5;241m.\u001b[39mndarray) \u001b[38;5;241m-\u001b[39m\u001b[38;5;241m>\u001b[39m \u001b[38;5;28;01mNone\u001b[39;00m:\n\u001b[1;32m    170\u001b[0m \u001b[38;5;250m    \u001b[39m\u001b[38;5;124;03m\"\"\"\u001b[39;00m\n\u001b[1;32m    171\u001b[0m \u001b[38;5;124;03m    changes the objective function and removes columns of the auxillary variables,\u001b[39;00m\n\u001b[1;32m    172\u001b[0m \u001b[38;5;124;03m    preparing the tableau for phase 2.\u001b[39;00m\n\u001b[1;32m    173\u001b[0m \u001b[38;5;124;03m    \"\"\"\u001b[39;00m\n\u001b[0;32m--> 174\u001b[0m     phase_one_solution: np\u001b[38;5;241m.\u001b[39mndarray \u001b[38;5;241m=\u001b[39m \u001b[38;5;28;43mself\u001b[39;49m\u001b[38;5;241;43m.\u001b[39;49m\u001b[43m__get_solution\u001b[49m\u001b[43m(\u001b[49m\u001b[43mbasis\u001b[49m\u001b[43m)\u001b[49m\n\u001b[1;32m    175\u001b[0m     \u001b[38;5;28mself\u001b[39m\u001b[38;5;241m.\u001b[39m__tableau[\u001b[38;5;241m0\u001b[39m, \u001b[38;5;241m0\u001b[39m] \u001b[38;5;241m=\u001b[39m \u001b[38;5;241m-\u001b[39mnp\u001b[38;5;241m.\u001b[39mdot(\u001b[38;5;28mself\u001b[39m\u001b[38;5;241m.\u001b[39m__c, phase_one_solution)\n\u001b[1;32m    176\u001b[0m     n: \u001b[38;5;28mint\u001b[39m \u001b[38;5;241m=\u001b[39m \u001b[38;5;28mself\u001b[39m\u001b[38;5;241m.\u001b[39m__a\u001b[38;5;241m.\u001b[39mshape[\u001b[38;5;241m1\u001b[39m]\n",
      "File \u001b[0;32m~/Projects/two_phase_simplex_implementation/two_phase_simplex.py:166\u001b[0m, in \u001b[0;36mTwoPhaseSimplex.__get_solution\u001b[0;34m(self, basis)\u001b[0m\n\u001b[1;32m    163\u001b[0m solutions: np\u001b[38;5;241m.\u001b[39mndarray \u001b[38;5;241m=\u001b[39m np\u001b[38;5;241m.\u001b[39mzeros(n)\n\u001b[1;32m    164\u001b[0m \u001b[38;5;28;01mfor\u001b[39;00m i, var \u001b[38;5;129;01min\u001b[39;00m \u001b[38;5;28menumerate\u001b[39m(basis):\n\u001b[1;32m    165\u001b[0m     \u001b[38;5;66;03m# basis contains the numbered variable which is in the index\u001b[39;00m\n\u001b[0;32m--> 166\u001b[0m     \u001b[43msolutions\u001b[49m\u001b[43m[\u001b[49m\u001b[43mvar\u001b[49m\u001b[43m \u001b[49m\u001b[38;5;241;43m-\u001b[39;49m\u001b[43m \u001b[49m\u001b[38;5;241;43m1\u001b[39;49m\u001b[43m]\u001b[49m \u001b[38;5;241m=\u001b[39m \u001b[38;5;28mself\u001b[39m\u001b[38;5;241m.\u001b[39m__tableau[i \u001b[38;5;241m+\u001b[39m \u001b[38;5;241m1\u001b[39m, \u001b[38;5;241m0\u001b[39m]\n\u001b[1;32m    167\u001b[0m \u001b[38;5;28;01mreturn\u001b[39;00m solutions\n",
      "\u001b[0;31mIndexError\u001b[0m: index 52 is out of bounds for axis 0 with size 52"
     ]
    }
   ],
   "source": [
    "# produce random test cases\n",
    "\n",
    "test_cases : dict = {\"A\" : [], \"b\" : [], \"c\" : []}\n",
    "\n",
    "cases : int = 100\n",
    "\n",
    "for i in range(cases):\n",
    "    m : int = random.randint(2, 100)\n",
    "    n : int = random.randint(2, 100)\n",
    "    test_cases[\"A\"].append(np.random.rand(m,n))\n",
    "    test_cases[\"b\"].append(np.random.rand(m))\n",
    "    test_cases[\"c\"].append(np.random.rand(n))\n",
    "\n",
    "for i in range(cases):\n",
    "    x = TwoPhaseSimplex(test_cases[\"A\"][i], test_cases[\"b\"][i], test_cases[\"c\"][i])\n",
    "    if x.solve_program():\n",
    "        print(x.get_solution())"
   ]
  },
  {
   "cell_type": "markdown",
   "metadata": {},
   "source": [
    "### Observations from the random tests\n",
    "A very large amount of 'random' (generated by numpy) problems are infeasible or unbounded, hence do not have an optimal solution. In the next couple cells I will try to present these facts using graphs."
   ]
  },
  {
   "cell_type": "code",
   "execution_count": 9,
   "metadata": {},
   "outputs": [],
   "source": [
    "def get_random_results(cases : np.array) -> np.array:\n",
    "    \"\"\"\n",
    "    Runs the two phase simplex solver using random shape of matrices and entries.\n",
    "    Returns a list of n results.\n",
    "    \"\"\"\n",
    "    results = np.zeros(len(cases))\n",
    "    for j,case in enumerate(cases):\n",
    "        for i in range(int(case)):\n",
    "            m : int = random.randint(9, 300)\n",
    "            n : int = m - 5\n",
    "            test_cases[\"A\"].append(np.random.rand(m,n))\n",
    "            test_cases[\"b\"].append(np.random.rand(m))\n",
    "            test_cases[\"c\"].append(np.random.rand(n))\n",
    "\n",
    "\n",
    "        for i in range(int(case)):\n",
    "            x = TwoPhaseSimplex(test_cases[\"A\"][i], test_cases[\"b\"][i], test_cases[\"c\"][i])\n",
    "            if x.solve_program():\n",
    "                results[j] += 1\n",
    "\n",
    "    return results"
   ]
  },
  {
   "cell_type": "code",
   "execution_count": null,
   "metadata": {},
   "outputs": [],
   "source": [
    "# import matplotlib.pyplot as plt\n",
    "\n",
    "# x = np.logspace(1, 3, base=10)\n",
    "# print(x)\n",
    "# y = np.zeros(len(x))\n",
    "\n",
    "# y = get_random_results(x)\n",
    "\n",
    "# print(y)"
   ]
  },
  {
   "cell_type": "markdown",
   "metadata": {},
   "source": [
    "## Input sanitisation tests"
   ]
  },
  {
   "cell_type": "code",
   "execution_count": 10,
   "metadata": {},
   "outputs": [
    {
     "ename": "InvalidProblemException",
     "evalue": "Invalid linear programming problem described: Vector b does not have the same length as matrix A has rows",
     "output_type": "error",
     "traceback": [
      "\u001b[0;31m---------------------------------------------------------------------------\u001b[0m",
      "\u001b[0;31mInvalidProblemException\u001b[0m                   Traceback (most recent call last)",
      "Cell \u001b[0;32mIn[10], line 7\u001b[0m\n\u001b[1;32m      4\u001b[0m b \u001b[38;5;241m=\u001b[39m [\u001b[38;5;241m1\u001b[39m,\u001b[38;5;241m2\u001b[39m] \u001b[38;5;66;03m# b has size 2\u001b[39;00m\n\u001b[1;32m      5\u001b[0m c \u001b[38;5;241m=\u001b[39m [\u001b[38;5;241m1\u001b[39m] \u001b[38;5;66;03m# c has size 1\u001b[39;00m\n\u001b[0;32m----> 7\u001b[0m x \u001b[38;5;241m=\u001b[39m \u001b[43mTwoPhaseSimplex\u001b[49m\u001b[43m(\u001b[49m\u001b[43mA\u001b[49m\u001b[43m,\u001b[49m\u001b[43m \u001b[49m\u001b[43mb\u001b[49m\u001b[43m,\u001b[49m\u001b[43m \u001b[49m\u001b[43mc\u001b[49m\u001b[43m)\u001b[49m\n",
      "File \u001b[0;32m~/Projects/two_phase_simplex_implementation/two_phase_simplex.py:26\u001b[0m, in \u001b[0;36mTwoPhaseSimplex.__init__\u001b[0;34m(self, a, b, c)\u001b[0m\n\u001b[1;32m     24\u001b[0m valid, message \u001b[38;5;241m=\u001b[39m \u001b[38;5;28mself\u001b[39m\u001b[38;5;241m.\u001b[39m__check_validity_of_arguments(a, b, c)\n\u001b[1;32m     25\u001b[0m \u001b[38;5;28;01mif\u001b[39;00m \u001b[38;5;129;01mnot\u001b[39;00m valid:\n\u001b[0;32m---> 26\u001b[0m     \u001b[38;5;28;01mraise\u001b[39;00m InvalidProblemException(\n\u001b[1;32m     27\u001b[0m         \u001b[38;5;124m\"\u001b[39m\u001b[38;5;124mInvalid linear programming problem described: \u001b[39m\u001b[38;5;124m\"\u001b[39m \u001b[38;5;241m+\u001b[39m message\n\u001b[1;32m     28\u001b[0m     )\n\u001b[1;32m     29\u001b[0m \u001b[38;5;28mself\u001b[39m\u001b[38;5;241m.\u001b[39m__a: np\u001b[38;5;241m.\u001b[39mndarray \u001b[38;5;241m=\u001b[39m np\u001b[38;5;241m.\u001b[39marray(a)\n\u001b[1;32m     30\u001b[0m \u001b[38;5;28mself\u001b[39m\u001b[38;5;241m.\u001b[39m__b: np\u001b[38;5;241m.\u001b[39mndarray \u001b[38;5;241m=\u001b[39m np\u001b[38;5;241m.\u001b[39marray(b)\n",
      "\u001b[0;31mInvalidProblemException\u001b[0m: Invalid linear programming problem described: Vector b does not have the same length as matrix A has rows"
     ]
    }
   ],
   "source": [
    "# should raise exception with a message\n",
    "\n",
    "A = [[3],[2],[4]] # A is a 3x1 matrix\n",
    "b = [1,2] # b has size 2\n",
    "c = [1] # c has size 1\n",
    "\n",
    "x = TwoPhaseSimplex(A, b, c)"
   ]
  },
  {
   "cell_type": "code",
   "execution_count": 11,
   "metadata": {},
   "outputs": [
    {
     "ename": "InvalidProblemException",
     "evalue": "Invalid linear programming problem described: Vector b does not have the same length as matrix A has rows",
     "output_type": "error",
     "traceback": [
      "\u001b[0;31m---------------------------------------------------------------------------\u001b[0m",
      "\u001b[0;31mInvalidProblemException\u001b[0m                   Traceback (most recent call last)",
      "Cell \u001b[0;32mIn[11], line 7\u001b[0m\n\u001b[1;32m      4\u001b[0m b \u001b[38;5;241m=\u001b[39m [\u001b[38;5;241m1\u001b[39m,\u001b[38;5;241m2\u001b[39m,\u001b[38;5;241m5\u001b[39m] \u001b[38;5;66;03m# b has size 3\u001b[39;00m\n\u001b[1;32m      5\u001b[0m c \u001b[38;5;241m=\u001b[39m [\u001b[38;5;241m1\u001b[39m] \u001b[38;5;66;03m# c has size 1\u001b[39;00m\n\u001b[0;32m----> 7\u001b[0m x \u001b[38;5;241m=\u001b[39m \u001b[43mTwoPhaseSimplex\u001b[49m\u001b[43m(\u001b[49m\u001b[43mA\u001b[49m\u001b[43m,\u001b[49m\u001b[43m \u001b[49m\u001b[43mb\u001b[49m\u001b[43m,\u001b[49m\u001b[43m \u001b[49m\u001b[43mc\u001b[49m\u001b[43m)\u001b[49m\n",
      "File \u001b[0;32m~/Projects/two_phase_simplex_implementation/two_phase_simplex.py:26\u001b[0m, in \u001b[0;36mTwoPhaseSimplex.__init__\u001b[0;34m(self, a, b, c)\u001b[0m\n\u001b[1;32m     24\u001b[0m valid, message \u001b[38;5;241m=\u001b[39m \u001b[38;5;28mself\u001b[39m\u001b[38;5;241m.\u001b[39m__check_validity_of_arguments(a, b, c)\n\u001b[1;32m     25\u001b[0m \u001b[38;5;28;01mif\u001b[39;00m \u001b[38;5;129;01mnot\u001b[39;00m valid:\n\u001b[0;32m---> 26\u001b[0m     \u001b[38;5;28;01mraise\u001b[39;00m InvalidProblemException(\n\u001b[1;32m     27\u001b[0m         \u001b[38;5;124m\"\u001b[39m\u001b[38;5;124mInvalid linear programming problem described: \u001b[39m\u001b[38;5;124m\"\u001b[39m \u001b[38;5;241m+\u001b[39m message\n\u001b[1;32m     28\u001b[0m     )\n\u001b[1;32m     29\u001b[0m \u001b[38;5;28mself\u001b[39m\u001b[38;5;241m.\u001b[39m__a: np\u001b[38;5;241m.\u001b[39mndarray \u001b[38;5;241m=\u001b[39m np\u001b[38;5;241m.\u001b[39marray(a)\n\u001b[1;32m     30\u001b[0m \u001b[38;5;28mself\u001b[39m\u001b[38;5;241m.\u001b[39m__b: np\u001b[38;5;241m.\u001b[39mndarray \u001b[38;5;241m=\u001b[39m np\u001b[38;5;241m.\u001b[39marray(b)\n",
      "\u001b[0;31mInvalidProblemException\u001b[0m: Invalid linear programming problem described: Vector b does not have the same length as matrix A has rows"
     ]
    }
   ],
   "source": [
    "# should raise exception with a message\n",
    "\n",
    "A = [[3,-1],[2,5]] # A is a 3x2 matrix\n",
    "b = [1,2,5] # b has size 3\n",
    "c = [1] # c has size 1\n",
    "\n",
    "x = TwoPhaseSimplex(A, b, c)"
   ]
  },
  {
   "cell_type": "code",
   "execution_count": 12,
   "metadata": {},
   "outputs": [],
   "source": [
    "# should work with no exception\n",
    "\n",
    "A = [[3,-1],[2,5]] # A is a 3x2 matrix\n",
    "b = [1,2] # b has size 2\n",
    "c = [1,2] # c has size 2\n",
    "\n",
    "x = TwoPhaseSimplex(A, b, c)"
   ]
  },
  {
   "cell_type": "markdown",
   "metadata": {},
   "source": [
    "## More test cases for solutions"
   ]
  },
  {
   "cell_type": "code",
   "execution_count": 13,
   "metadata": {},
   "outputs": [
    {
     "name": "stdout",
     "output_type": "stream",
     "text": [
      "{'x1': 0.0, 'x2': 2.6666666666666665, 'x3': 0.3333333333333333}\n",
      "{'x1': 1.3333333333333335, 'x2': 0.0, 'x3': 0.5555555555555556}\n"
     ]
    }
   ],
   "source": [
    "A = [[2,0,3],[3,2,-1]]\n",
    "b = [1,5]\n",
    "c = [1,-2,0]\n",
    "\n",
    "# this problem should read off the solution (x1,x2,x3) = (0,1/3,8/3)\n",
    "\n",
    "x = TwoPhaseSimplex(A,b,c)\n",
    "if x.solve_program():\n",
    "    print(x.get_solution())\n",
    "\n",
    "e = [[1,2,3],[-1,2,6],[0,-3,-9]]\n",
    "f = [3,2,-5]\n",
    "g = [1,1,1]\n",
    "\n",
    "y = TwoPhaseSimplex(e,f,g)\n",
    "\n",
    "if y.solve_program():\n",
    "    print(y.get_solution())\n",
    "\n",
    "assert x.get_solution(), {'x1':0,'x2':8/3,'x3':1/3}\n",
    "assert y.get_solution(), {'x1':4/3,'x2':0,'x3':5/9}"
   ]
  }
 ],
 "metadata": {
  "kernelspec": {
   "display_name": "Python 3",
   "language": "python",
   "name": "python3"
  },
  "language_info": {
   "codemirror_mode": {
    "name": "ipython",
    "version": 3
   },
   "file_extension": ".py",
   "mimetype": "text/x-python",
   "name": "python",
   "nbconvert_exporter": "python",
   "pygments_lexer": "ipython3",
   "version": "3.12.3"
  }
 },
 "nbformat": 4,
 "nbformat_minor": 2
}
